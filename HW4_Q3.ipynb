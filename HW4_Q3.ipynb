{
  "nbformat": 4,
  "nbformat_minor": 0,
  "metadata": {
    "colab": {
      "provenance": []
    },
    "kernelspec": {
      "name": "python3",
      "display_name": "Python 3"
    },
    "language_info": {
      "name": "python"
    },
    "accelerator": "GPU",
    "gpuClass": "standard",
    "widgets": {
      "application/vnd.jupyter.widget-state+json": {
        "595eccacbc434d66836916130a8dfbf3": {
          "model_module": "@jupyter-widgets/controls",
          "model_name": "HBoxModel",
          "model_module_version": "1.5.0",
          "state": {
            "_dom_classes": [],
            "_model_module": "@jupyter-widgets/controls",
            "_model_module_version": "1.5.0",
            "_model_name": "HBoxModel",
            "_view_count": null,
            "_view_module": "@jupyter-widgets/controls",
            "_view_module_version": "1.5.0",
            "_view_name": "HBoxView",
            "box_style": "",
            "children": [
              "IPY_MODEL_db9751c667c94daca2177f3ccbfc4c4d",
              "IPY_MODEL_8e892d11ad8349478c44486c67322b7f",
              "IPY_MODEL_7fca66fce56e4a6da25571c864fdd393"
            ],
            "layout": "IPY_MODEL_905b3add03334d02997322a0b4ce9ba4"
          }
        },
        "db9751c667c94daca2177f3ccbfc4c4d": {
          "model_module": "@jupyter-widgets/controls",
          "model_name": "HTMLModel",
          "model_module_version": "1.5.0",
          "state": {
            "_dom_classes": [],
            "_model_module": "@jupyter-widgets/controls",
            "_model_module_version": "1.5.0",
            "_model_name": "HTMLModel",
            "_view_count": null,
            "_view_module": "@jupyter-widgets/controls",
            "_view_module_version": "1.5.0",
            "_view_name": "HTMLView",
            "description": "",
            "description_tooltip": null,
            "layout": "IPY_MODEL_792c25ae03b64be2b471f042dd9f3f6d",
            "placeholder": "​",
            "style": "IPY_MODEL_7dd5ec045e144743836d51fcc3081035",
            "value": "Downloading (…)lve/main/config.json: 100%"
          }
        },
        "8e892d11ad8349478c44486c67322b7f": {
          "model_module": "@jupyter-widgets/controls",
          "model_name": "FloatProgressModel",
          "model_module_version": "1.5.0",
          "state": {
            "_dom_classes": [],
            "_model_module": "@jupyter-widgets/controls",
            "_model_module_version": "1.5.0",
            "_model_name": "FloatProgressModel",
            "_view_count": null,
            "_view_module": "@jupyter-widgets/controls",
            "_view_module_version": "1.5.0",
            "_view_name": "ProgressView",
            "bar_style": "success",
            "description": "",
            "description_tooltip": null,
            "layout": "IPY_MODEL_d53ac3667aa9415e99d93de43d0934a9",
            "max": 440,
            "min": 0,
            "orientation": "horizontal",
            "style": "IPY_MODEL_7411051362e340b68b68d0bc58d4dcc0",
            "value": 440
          }
        },
        "7fca66fce56e4a6da25571c864fdd393": {
          "model_module": "@jupyter-widgets/controls",
          "model_name": "HTMLModel",
          "model_module_version": "1.5.0",
          "state": {
            "_dom_classes": [],
            "_model_module": "@jupyter-widgets/controls",
            "_model_module_version": "1.5.0",
            "_model_name": "HTMLModel",
            "_view_count": null,
            "_view_module": "@jupyter-widgets/controls",
            "_view_module_version": "1.5.0",
            "_view_name": "HTMLView",
            "description": "",
            "description_tooltip": null,
            "layout": "IPY_MODEL_04c7675ed6f24f198ccef168a244619e",
            "placeholder": "​",
            "style": "IPY_MODEL_120b53c56af0453997d1edb4ed301f52",
            "value": " 440/440 [00:00&lt;00:00, 13.9kB/s]"
          }
        },
        "905b3add03334d02997322a0b4ce9ba4": {
          "model_module": "@jupyter-widgets/base",
          "model_name": "LayoutModel",
          "model_module_version": "1.2.0",
          "state": {
            "_model_module": "@jupyter-widgets/base",
            "_model_module_version": "1.2.0",
            "_model_name": "LayoutModel",
            "_view_count": null,
            "_view_module": "@jupyter-widgets/base",
            "_view_module_version": "1.2.0",
            "_view_name": "LayoutView",
            "align_content": null,
            "align_items": null,
            "align_self": null,
            "border": null,
            "bottom": null,
            "display": null,
            "flex": null,
            "flex_flow": null,
            "grid_area": null,
            "grid_auto_columns": null,
            "grid_auto_flow": null,
            "grid_auto_rows": null,
            "grid_column": null,
            "grid_gap": null,
            "grid_row": null,
            "grid_template_areas": null,
            "grid_template_columns": null,
            "grid_template_rows": null,
            "height": null,
            "justify_content": null,
            "justify_items": null,
            "left": null,
            "margin": null,
            "max_height": null,
            "max_width": null,
            "min_height": null,
            "min_width": null,
            "object_fit": null,
            "object_position": null,
            "order": null,
            "overflow": null,
            "overflow_x": null,
            "overflow_y": null,
            "padding": null,
            "right": null,
            "top": null,
            "visibility": null,
            "width": null
          }
        },
        "792c25ae03b64be2b471f042dd9f3f6d": {
          "model_module": "@jupyter-widgets/base",
          "model_name": "LayoutModel",
          "model_module_version": "1.2.0",
          "state": {
            "_model_module": "@jupyter-widgets/base",
            "_model_module_version": "1.2.0",
            "_model_name": "LayoutModel",
            "_view_count": null,
            "_view_module": "@jupyter-widgets/base",
            "_view_module_version": "1.2.0",
            "_view_name": "LayoutView",
            "align_content": null,
            "align_items": null,
            "align_self": null,
            "border": null,
            "bottom": null,
            "display": null,
            "flex": null,
            "flex_flow": null,
            "grid_area": null,
            "grid_auto_columns": null,
            "grid_auto_flow": null,
            "grid_auto_rows": null,
            "grid_column": null,
            "grid_gap": null,
            "grid_row": null,
            "grid_template_areas": null,
            "grid_template_columns": null,
            "grid_template_rows": null,
            "height": null,
            "justify_content": null,
            "justify_items": null,
            "left": null,
            "margin": null,
            "max_height": null,
            "max_width": null,
            "min_height": null,
            "min_width": null,
            "object_fit": null,
            "object_position": null,
            "order": null,
            "overflow": null,
            "overflow_x": null,
            "overflow_y": null,
            "padding": null,
            "right": null,
            "top": null,
            "visibility": null,
            "width": null
          }
        },
        "7dd5ec045e144743836d51fcc3081035": {
          "model_module": "@jupyter-widgets/controls",
          "model_name": "DescriptionStyleModel",
          "model_module_version": "1.5.0",
          "state": {
            "_model_module": "@jupyter-widgets/controls",
            "_model_module_version": "1.5.0",
            "_model_name": "DescriptionStyleModel",
            "_view_count": null,
            "_view_module": "@jupyter-widgets/base",
            "_view_module_version": "1.2.0",
            "_view_name": "StyleView",
            "description_width": ""
          }
        },
        "d53ac3667aa9415e99d93de43d0934a9": {
          "model_module": "@jupyter-widgets/base",
          "model_name": "LayoutModel",
          "model_module_version": "1.2.0",
          "state": {
            "_model_module": "@jupyter-widgets/base",
            "_model_module_version": "1.2.0",
            "_model_name": "LayoutModel",
            "_view_count": null,
            "_view_module": "@jupyter-widgets/base",
            "_view_module_version": "1.2.0",
            "_view_name": "LayoutView",
            "align_content": null,
            "align_items": null,
            "align_self": null,
            "border": null,
            "bottom": null,
            "display": null,
            "flex": null,
            "flex_flow": null,
            "grid_area": null,
            "grid_auto_columns": null,
            "grid_auto_flow": null,
            "grid_auto_rows": null,
            "grid_column": null,
            "grid_gap": null,
            "grid_row": null,
            "grid_template_areas": null,
            "grid_template_columns": null,
            "grid_template_rows": null,
            "height": null,
            "justify_content": null,
            "justify_items": null,
            "left": null,
            "margin": null,
            "max_height": null,
            "max_width": null,
            "min_height": null,
            "min_width": null,
            "object_fit": null,
            "object_position": null,
            "order": null,
            "overflow": null,
            "overflow_x": null,
            "overflow_y": null,
            "padding": null,
            "right": null,
            "top": null,
            "visibility": null,
            "width": null
          }
        },
        "7411051362e340b68b68d0bc58d4dcc0": {
          "model_module": "@jupyter-widgets/controls",
          "model_name": "ProgressStyleModel",
          "model_module_version": "1.5.0",
          "state": {
            "_model_module": "@jupyter-widgets/controls",
            "_model_module_version": "1.5.0",
            "_model_name": "ProgressStyleModel",
            "_view_count": null,
            "_view_module": "@jupyter-widgets/base",
            "_view_module_version": "1.2.0",
            "_view_name": "StyleView",
            "bar_color": null,
            "description_width": ""
          }
        },
        "04c7675ed6f24f198ccef168a244619e": {
          "model_module": "@jupyter-widgets/base",
          "model_name": "LayoutModel",
          "model_module_version": "1.2.0",
          "state": {
            "_model_module": "@jupyter-widgets/base",
            "_model_module_version": "1.2.0",
            "_model_name": "LayoutModel",
            "_view_count": null,
            "_view_module": "@jupyter-widgets/base",
            "_view_module_version": "1.2.0",
            "_view_name": "LayoutView",
            "align_content": null,
            "align_items": null,
            "align_self": null,
            "border": null,
            "bottom": null,
            "display": null,
            "flex": null,
            "flex_flow": null,
            "grid_area": null,
            "grid_auto_columns": null,
            "grid_auto_flow": null,
            "grid_auto_rows": null,
            "grid_column": null,
            "grid_gap": null,
            "grid_row": null,
            "grid_template_areas": null,
            "grid_template_columns": null,
            "grid_template_rows": null,
            "height": null,
            "justify_content": null,
            "justify_items": null,
            "left": null,
            "margin": null,
            "max_height": null,
            "max_width": null,
            "min_height": null,
            "min_width": null,
            "object_fit": null,
            "object_position": null,
            "order": null,
            "overflow": null,
            "overflow_x": null,
            "overflow_y": null,
            "padding": null,
            "right": null,
            "top": null,
            "visibility": null,
            "width": null
          }
        },
        "120b53c56af0453997d1edb4ed301f52": {
          "model_module": "@jupyter-widgets/controls",
          "model_name": "DescriptionStyleModel",
          "model_module_version": "1.5.0",
          "state": {
            "_model_module": "@jupyter-widgets/controls",
            "_model_module_version": "1.5.0",
            "_model_name": "DescriptionStyleModel",
            "_view_count": null,
            "_view_module": "@jupyter-widgets/base",
            "_view_module_version": "1.2.0",
            "_view_name": "StyleView",
            "description_width": ""
          }
        },
        "232be43c9f334babaf0a524efdb51f76": {
          "model_module": "@jupyter-widgets/controls",
          "model_name": "HBoxModel",
          "model_module_version": "1.5.0",
          "state": {
            "_dom_classes": [],
            "_model_module": "@jupyter-widgets/controls",
            "_model_module_version": "1.5.0",
            "_model_name": "HBoxModel",
            "_view_count": null,
            "_view_module": "@jupyter-widgets/controls",
            "_view_module_version": "1.5.0",
            "_view_name": "HBoxView",
            "box_style": "",
            "children": [
              "IPY_MODEL_986ae195a8574c869ac24d96a6301ff9",
              "IPY_MODEL_a6c7f22427514d87a0cfe9f2423b158b",
              "IPY_MODEL_d3a52c261fa14ffe801abb1ce694ee91"
            ],
            "layout": "IPY_MODEL_eb08e49bd294433888481f2cbdd31b8d"
          }
        },
        "986ae195a8574c869ac24d96a6301ff9": {
          "model_module": "@jupyter-widgets/controls",
          "model_name": "HTMLModel",
          "model_module_version": "1.5.0",
          "state": {
            "_dom_classes": [],
            "_model_module": "@jupyter-widgets/controls",
            "_model_module_version": "1.5.0",
            "_model_name": "HTMLModel",
            "_view_count": null,
            "_view_module": "@jupyter-widgets/controls",
            "_view_module_version": "1.5.0",
            "_view_name": "HTMLView",
            "description": "",
            "description_tooltip": null,
            "layout": "IPY_MODEL_355124efbd344e28a48adc5a0f15d69d",
            "placeholder": "​",
            "style": "IPY_MODEL_076c7ffaccaf406691c51663d304d611",
            "value": "Downloading (…)solve/main/vocab.txt: 100%"
          }
        },
        "a6c7f22427514d87a0cfe9f2423b158b": {
          "model_module": "@jupyter-widgets/controls",
          "model_name": "FloatProgressModel",
          "model_module_version": "1.5.0",
          "state": {
            "_dom_classes": [],
            "_model_module": "@jupyter-widgets/controls",
            "_model_module_version": "1.5.0",
            "_model_name": "FloatProgressModel",
            "_view_count": null,
            "_view_module": "@jupyter-widgets/controls",
            "_view_module_version": "1.5.0",
            "_view_name": "ProgressView",
            "bar_style": "success",
            "description": "",
            "description_tooltip": null,
            "layout": "IPY_MODEL_71c2d4c1babb42c4bbd929c2acf42a5b",
            "max": 1198122,
            "min": 0,
            "orientation": "horizontal",
            "style": "IPY_MODEL_78afd3e221384482aab764b77f15b5b6",
            "value": 1198122
          }
        },
        "d3a52c261fa14ffe801abb1ce694ee91": {
          "model_module": "@jupyter-widgets/controls",
          "model_name": "HTMLModel",
          "model_module_version": "1.5.0",
          "state": {
            "_dom_classes": [],
            "_model_module": "@jupyter-widgets/controls",
            "_model_module_version": "1.5.0",
            "_model_name": "HTMLModel",
            "_view_count": null,
            "_view_module": "@jupyter-widgets/controls",
            "_view_module_version": "1.5.0",
            "_view_name": "HTMLView",
            "description": "",
            "description_tooltip": null,
            "layout": "IPY_MODEL_ad6894dafd2f45fe8fd59af5a7664fb5",
            "placeholder": "​",
            "style": "IPY_MODEL_7dad397ef1ad40f2b41fd765c025f5d8",
            "value": " 1.20M/1.20M [00:01&lt;00:00, 898kB/s]"
          }
        },
        "eb08e49bd294433888481f2cbdd31b8d": {
          "model_module": "@jupyter-widgets/base",
          "model_name": "LayoutModel",
          "model_module_version": "1.2.0",
          "state": {
            "_model_module": "@jupyter-widgets/base",
            "_model_module_version": "1.2.0",
            "_model_name": "LayoutModel",
            "_view_count": null,
            "_view_module": "@jupyter-widgets/base",
            "_view_module_version": "1.2.0",
            "_view_name": "LayoutView",
            "align_content": null,
            "align_items": null,
            "align_self": null,
            "border": null,
            "bottom": null,
            "display": null,
            "flex": null,
            "flex_flow": null,
            "grid_area": null,
            "grid_auto_columns": null,
            "grid_auto_flow": null,
            "grid_auto_rows": null,
            "grid_column": null,
            "grid_gap": null,
            "grid_row": null,
            "grid_template_areas": null,
            "grid_template_columns": null,
            "grid_template_rows": null,
            "height": null,
            "justify_content": null,
            "justify_items": null,
            "left": null,
            "margin": null,
            "max_height": null,
            "max_width": null,
            "min_height": null,
            "min_width": null,
            "object_fit": null,
            "object_position": null,
            "order": null,
            "overflow": null,
            "overflow_x": null,
            "overflow_y": null,
            "padding": null,
            "right": null,
            "top": null,
            "visibility": null,
            "width": null
          }
        },
        "355124efbd344e28a48adc5a0f15d69d": {
          "model_module": "@jupyter-widgets/base",
          "model_name": "LayoutModel",
          "model_module_version": "1.2.0",
          "state": {
            "_model_module": "@jupyter-widgets/base",
            "_model_module_version": "1.2.0",
            "_model_name": "LayoutModel",
            "_view_count": null,
            "_view_module": "@jupyter-widgets/base",
            "_view_module_version": "1.2.0",
            "_view_name": "LayoutView",
            "align_content": null,
            "align_items": null,
            "align_self": null,
            "border": null,
            "bottom": null,
            "display": null,
            "flex": null,
            "flex_flow": null,
            "grid_area": null,
            "grid_auto_columns": null,
            "grid_auto_flow": null,
            "grid_auto_rows": null,
            "grid_column": null,
            "grid_gap": null,
            "grid_row": null,
            "grid_template_areas": null,
            "grid_template_columns": null,
            "grid_template_rows": null,
            "height": null,
            "justify_content": null,
            "justify_items": null,
            "left": null,
            "margin": null,
            "max_height": null,
            "max_width": null,
            "min_height": null,
            "min_width": null,
            "object_fit": null,
            "object_position": null,
            "order": null,
            "overflow": null,
            "overflow_x": null,
            "overflow_y": null,
            "padding": null,
            "right": null,
            "top": null,
            "visibility": null,
            "width": null
          }
        },
        "076c7ffaccaf406691c51663d304d611": {
          "model_module": "@jupyter-widgets/controls",
          "model_name": "DescriptionStyleModel",
          "model_module_version": "1.5.0",
          "state": {
            "_model_module": "@jupyter-widgets/controls",
            "_model_module_version": "1.5.0",
            "_model_name": "DescriptionStyleModel",
            "_view_count": null,
            "_view_module": "@jupyter-widgets/base",
            "_view_module_version": "1.2.0",
            "_view_name": "StyleView",
            "description_width": ""
          }
        },
        "71c2d4c1babb42c4bbd929c2acf42a5b": {
          "model_module": "@jupyter-widgets/base",
          "model_name": "LayoutModel",
          "model_module_version": "1.2.0",
          "state": {
            "_model_module": "@jupyter-widgets/base",
            "_model_module_version": "1.2.0",
            "_model_name": "LayoutModel",
            "_view_count": null,
            "_view_module": "@jupyter-widgets/base",
            "_view_module_version": "1.2.0",
            "_view_name": "LayoutView",
            "align_content": null,
            "align_items": null,
            "align_self": null,
            "border": null,
            "bottom": null,
            "display": null,
            "flex": null,
            "flex_flow": null,
            "grid_area": null,
            "grid_auto_columns": null,
            "grid_auto_flow": null,
            "grid_auto_rows": null,
            "grid_column": null,
            "grid_gap": null,
            "grid_row": null,
            "grid_template_areas": null,
            "grid_template_columns": null,
            "grid_template_rows": null,
            "height": null,
            "justify_content": null,
            "justify_items": null,
            "left": null,
            "margin": null,
            "max_height": null,
            "max_width": null,
            "min_height": null,
            "min_width": null,
            "object_fit": null,
            "object_position": null,
            "order": null,
            "overflow": null,
            "overflow_x": null,
            "overflow_y": null,
            "padding": null,
            "right": null,
            "top": null,
            "visibility": null,
            "width": null
          }
        },
        "78afd3e221384482aab764b77f15b5b6": {
          "model_module": "@jupyter-widgets/controls",
          "model_name": "ProgressStyleModel",
          "model_module_version": "1.5.0",
          "state": {
            "_model_module": "@jupyter-widgets/controls",
            "_model_module_version": "1.5.0",
            "_model_name": "ProgressStyleModel",
            "_view_count": null,
            "_view_module": "@jupyter-widgets/base",
            "_view_module_version": "1.2.0",
            "_view_name": "StyleView",
            "bar_color": null,
            "description_width": ""
          }
        },
        "ad6894dafd2f45fe8fd59af5a7664fb5": {
          "model_module": "@jupyter-widgets/base",
          "model_name": "LayoutModel",
          "model_module_version": "1.2.0",
          "state": {
            "_model_module": "@jupyter-widgets/base",
            "_model_module_version": "1.2.0",
            "_model_name": "LayoutModel",
            "_view_count": null,
            "_view_module": "@jupyter-widgets/base",
            "_view_module_version": "1.2.0",
            "_view_name": "LayoutView",
            "align_content": null,
            "align_items": null,
            "align_self": null,
            "border": null,
            "bottom": null,
            "display": null,
            "flex": null,
            "flex_flow": null,
            "grid_area": null,
            "grid_auto_columns": null,
            "grid_auto_flow": null,
            "grid_auto_rows": null,
            "grid_column": null,
            "grid_gap": null,
            "grid_row": null,
            "grid_template_areas": null,
            "grid_template_columns": null,
            "grid_template_rows": null,
            "height": null,
            "justify_content": null,
            "justify_items": null,
            "left": null,
            "margin": null,
            "max_height": null,
            "max_width": null,
            "min_height": null,
            "min_width": null,
            "object_fit": null,
            "object_position": null,
            "order": null,
            "overflow": null,
            "overflow_x": null,
            "overflow_y": null,
            "padding": null,
            "right": null,
            "top": null,
            "visibility": null,
            "width": null
          }
        },
        "7dad397ef1ad40f2b41fd765c025f5d8": {
          "model_module": "@jupyter-widgets/controls",
          "model_name": "DescriptionStyleModel",
          "model_module_version": "1.5.0",
          "state": {
            "_model_module": "@jupyter-widgets/controls",
            "_model_module_version": "1.5.0",
            "_model_name": "DescriptionStyleModel",
            "_view_count": null,
            "_view_module": "@jupyter-widgets/base",
            "_view_module_version": "1.2.0",
            "_view_name": "StyleView",
            "description_width": ""
          }
        },
        "d5467745e3f7406abd2feebe24bbe138": {
          "model_module": "@jupyter-widgets/controls",
          "model_name": "HBoxModel",
          "model_module_version": "1.5.0",
          "state": {
            "_dom_classes": [],
            "_model_module": "@jupyter-widgets/controls",
            "_model_module_version": "1.5.0",
            "_model_name": "HBoxModel",
            "_view_count": null,
            "_view_module": "@jupyter-widgets/controls",
            "_view_module_version": "1.5.0",
            "_view_name": "HBoxView",
            "box_style": "",
            "children": [
              "IPY_MODEL_bf9380c5543a4060a517f43d86c86cd9",
              "IPY_MODEL_d357f3065f0d44c7a1e59f67cf66d558",
              "IPY_MODEL_93cad0846981423c83241cacd34d5d61"
            ],
            "layout": "IPY_MODEL_757d1fbf22864e1e9d83ef4e48c75e5a"
          }
        },
        "bf9380c5543a4060a517f43d86c86cd9": {
          "model_module": "@jupyter-widgets/controls",
          "model_name": "HTMLModel",
          "model_module_version": "1.5.0",
          "state": {
            "_dom_classes": [],
            "_model_module": "@jupyter-widgets/controls",
            "_model_module_version": "1.5.0",
            "_model_name": "HTMLModel",
            "_view_count": null,
            "_view_module": "@jupyter-widgets/controls",
            "_view_module_version": "1.5.0",
            "_view_name": "HTMLView",
            "description": "",
            "description_tooltip": null,
            "layout": "IPY_MODEL_9b3d433e0b9f479eb0113f46c7068306",
            "placeholder": "​",
            "style": "IPY_MODEL_a87d401021dc4b949ca9b2a26b637215",
            "value": "Downloading (…)&quot;pytorch_model.bin&quot;;: 100%"
          }
        },
        "d357f3065f0d44c7a1e59f67cf66d558": {
          "model_module": "@jupyter-widgets/controls",
          "model_name": "FloatProgressModel",
          "model_module_version": "1.5.0",
          "state": {
            "_dom_classes": [],
            "_model_module": "@jupyter-widgets/controls",
            "_model_module_version": "1.5.0",
            "_model_name": "FloatProgressModel",
            "_view_count": null,
            "_view_module": "@jupyter-widgets/controls",
            "_view_module_version": "1.5.0",
            "_view_name": "ProgressView",
            "bar_style": "success",
            "description": "",
            "description_tooltip": null,
            "layout": "IPY_MODEL_5087ca6b53eb45cc8d4a0c24c69f9e0a",
            "max": 654226731,
            "min": 0,
            "orientation": "horizontal",
            "style": "IPY_MODEL_7174e23a06da4dfc83aca05491c8aeda",
            "value": 654226731
          }
        },
        "93cad0846981423c83241cacd34d5d61": {
          "model_module": "@jupyter-widgets/controls",
          "model_name": "HTMLModel",
          "model_module_version": "1.5.0",
          "state": {
            "_dom_classes": [],
            "_model_module": "@jupyter-widgets/controls",
            "_model_module_version": "1.5.0",
            "_model_name": "HTMLModel",
            "_view_count": null,
            "_view_module": "@jupyter-widgets/controls",
            "_view_module_version": "1.5.0",
            "_view_name": "HTMLView",
            "description": "",
            "description_tooltip": null,
            "layout": "IPY_MODEL_2b2ea5009e2b4bf5b16e080aa8c594a0",
            "placeholder": "​",
            "style": "IPY_MODEL_150ea1a3fdac4de6af27c0c608f46c50",
            "value": " 654M/654M [00:06&lt;00:00, 101MB/s]"
          }
        },
        "757d1fbf22864e1e9d83ef4e48c75e5a": {
          "model_module": "@jupyter-widgets/base",
          "model_name": "LayoutModel",
          "model_module_version": "1.2.0",
          "state": {
            "_model_module": "@jupyter-widgets/base",
            "_model_module_version": "1.2.0",
            "_model_name": "LayoutModel",
            "_view_count": null,
            "_view_module": "@jupyter-widgets/base",
            "_view_module_version": "1.2.0",
            "_view_name": "LayoutView",
            "align_content": null,
            "align_items": null,
            "align_self": null,
            "border": null,
            "bottom": null,
            "display": null,
            "flex": null,
            "flex_flow": null,
            "grid_area": null,
            "grid_auto_columns": null,
            "grid_auto_flow": null,
            "grid_auto_rows": null,
            "grid_column": null,
            "grid_gap": null,
            "grid_row": null,
            "grid_template_areas": null,
            "grid_template_columns": null,
            "grid_template_rows": null,
            "height": null,
            "justify_content": null,
            "justify_items": null,
            "left": null,
            "margin": null,
            "max_height": null,
            "max_width": null,
            "min_height": null,
            "min_width": null,
            "object_fit": null,
            "object_position": null,
            "order": null,
            "overflow": null,
            "overflow_x": null,
            "overflow_y": null,
            "padding": null,
            "right": null,
            "top": null,
            "visibility": null,
            "width": null
          }
        },
        "9b3d433e0b9f479eb0113f46c7068306": {
          "model_module": "@jupyter-widgets/base",
          "model_name": "LayoutModel",
          "model_module_version": "1.2.0",
          "state": {
            "_model_module": "@jupyter-widgets/base",
            "_model_module_version": "1.2.0",
            "_model_name": "LayoutModel",
            "_view_count": null,
            "_view_module": "@jupyter-widgets/base",
            "_view_module_version": "1.2.0",
            "_view_name": "LayoutView",
            "align_content": null,
            "align_items": null,
            "align_self": null,
            "border": null,
            "bottom": null,
            "display": null,
            "flex": null,
            "flex_flow": null,
            "grid_area": null,
            "grid_auto_columns": null,
            "grid_auto_flow": null,
            "grid_auto_rows": null,
            "grid_column": null,
            "grid_gap": null,
            "grid_row": null,
            "grid_template_areas": null,
            "grid_template_columns": null,
            "grid_template_rows": null,
            "height": null,
            "justify_content": null,
            "justify_items": null,
            "left": null,
            "margin": null,
            "max_height": null,
            "max_width": null,
            "min_height": null,
            "min_width": null,
            "object_fit": null,
            "object_position": null,
            "order": null,
            "overflow": null,
            "overflow_x": null,
            "overflow_y": null,
            "padding": null,
            "right": null,
            "top": null,
            "visibility": null,
            "width": null
          }
        },
        "a87d401021dc4b949ca9b2a26b637215": {
          "model_module": "@jupyter-widgets/controls",
          "model_name": "DescriptionStyleModel",
          "model_module_version": "1.5.0",
          "state": {
            "_model_module": "@jupyter-widgets/controls",
            "_model_module_version": "1.5.0",
            "_model_name": "DescriptionStyleModel",
            "_view_count": null,
            "_view_module": "@jupyter-widgets/base",
            "_view_module_version": "1.2.0",
            "_view_name": "StyleView",
            "description_width": ""
          }
        },
        "5087ca6b53eb45cc8d4a0c24c69f9e0a": {
          "model_module": "@jupyter-widgets/base",
          "model_name": "LayoutModel",
          "model_module_version": "1.2.0",
          "state": {
            "_model_module": "@jupyter-widgets/base",
            "_model_module_version": "1.2.0",
            "_model_name": "LayoutModel",
            "_view_count": null,
            "_view_module": "@jupyter-widgets/base",
            "_view_module_version": "1.2.0",
            "_view_name": "LayoutView",
            "align_content": null,
            "align_items": null,
            "align_self": null,
            "border": null,
            "bottom": null,
            "display": null,
            "flex": null,
            "flex_flow": null,
            "grid_area": null,
            "grid_auto_columns": null,
            "grid_auto_flow": null,
            "grid_auto_rows": null,
            "grid_column": null,
            "grid_gap": null,
            "grid_row": null,
            "grid_template_areas": null,
            "grid_template_columns": null,
            "grid_template_rows": null,
            "height": null,
            "justify_content": null,
            "justify_items": null,
            "left": null,
            "margin": null,
            "max_height": null,
            "max_width": null,
            "min_height": null,
            "min_width": null,
            "object_fit": null,
            "object_position": null,
            "order": null,
            "overflow": null,
            "overflow_x": null,
            "overflow_y": null,
            "padding": null,
            "right": null,
            "top": null,
            "visibility": null,
            "width": null
          }
        },
        "7174e23a06da4dfc83aca05491c8aeda": {
          "model_module": "@jupyter-widgets/controls",
          "model_name": "ProgressStyleModel",
          "model_module_version": "1.5.0",
          "state": {
            "_model_module": "@jupyter-widgets/controls",
            "_model_module_version": "1.5.0",
            "_model_name": "ProgressStyleModel",
            "_view_count": null,
            "_view_module": "@jupyter-widgets/base",
            "_view_module_version": "1.2.0",
            "_view_name": "StyleView",
            "bar_color": null,
            "description_width": ""
          }
        },
        "2b2ea5009e2b4bf5b16e080aa8c594a0": {
          "model_module": "@jupyter-widgets/base",
          "model_name": "LayoutModel",
          "model_module_version": "1.2.0",
          "state": {
            "_model_module": "@jupyter-widgets/base",
            "_model_module_version": "1.2.0",
            "_model_name": "LayoutModel",
            "_view_count": null,
            "_view_module": "@jupyter-widgets/base",
            "_view_module_version": "1.2.0",
            "_view_name": "LayoutView",
            "align_content": null,
            "align_items": null,
            "align_self": null,
            "border": null,
            "bottom": null,
            "display": null,
            "flex": null,
            "flex_flow": null,
            "grid_area": null,
            "grid_auto_columns": null,
            "grid_auto_flow": null,
            "grid_auto_rows": null,
            "grid_column": null,
            "grid_gap": null,
            "grid_row": null,
            "grid_template_areas": null,
            "grid_template_columns": null,
            "grid_template_rows": null,
            "height": null,
            "justify_content": null,
            "justify_items": null,
            "left": null,
            "margin": null,
            "max_height": null,
            "max_width": null,
            "min_height": null,
            "min_width": null,
            "object_fit": null,
            "object_position": null,
            "order": null,
            "overflow": null,
            "overflow_x": null,
            "overflow_y": null,
            "padding": null,
            "right": null,
            "top": null,
            "visibility": null,
            "width": null
          }
        },
        "150ea1a3fdac4de6af27c0c608f46c50": {
          "model_module": "@jupyter-widgets/controls",
          "model_name": "DescriptionStyleModel",
          "model_module_version": "1.5.0",
          "state": {
            "_model_module": "@jupyter-widgets/controls",
            "_model_module_version": "1.5.0",
            "_model_name": "DescriptionStyleModel",
            "_view_count": null,
            "_view_module": "@jupyter-widgets/base",
            "_view_module_version": "1.2.0",
            "_view_name": "StyleView",
            "description_width": ""
          }
        }
      }
    }
  },
  "cells": [
    {
      "cell_type": "markdown",
      "source": [
        "# Sajad Rahmanian 97101683"
      ],
      "metadata": {
        "id": "3Vg7vJU9uSNT"
      }
    },
    {
      "cell_type": "code",
      "source": [
        "import os\n",
        "import numpy as np\n",
        "from torch.utils.data import Dataset, DataLoader, random_split, WeightedRandomSampler\n",
        "import torch\n",
        "import torch.nn as nn\n",
        "from sklearn.metrics import confusion_matrix\n",
        "from tqdm import tqdm\n",
        "import matplotlib.pyplot as plt\n",
        "import pandas as pd\n",
        "import seaborn as sns"
      ],
      "metadata": {
        "id": "uVGrO_j1zy8F"
      },
      "execution_count": null,
      "outputs": []
    },
    {
      "cell_type": "code",
      "source": [
        "!pip install transformers"
      ],
      "metadata": {
        "colab": {
          "base_uri": "https://localhost:8080/"
        },
        "id": "QIWDH7nGuR_K",
        "outputId": "41005c50-11b1-40ba-9072-6d30748ac300"
      },
      "execution_count": null,
      "outputs": [
        {
          "output_type": "stream",
          "name": "stdout",
          "text": [
            "Looking in indexes: https://pypi.org/simple, https://us-python.pkg.dev/colab-wheels/public/simple/\n",
            "Collecting transformers\n",
            "  Downloading transformers-4.26.0-py3-none-any.whl (6.3 MB)\n",
            "\u001b[2K     \u001b[90m━━━━━━━━━━━━━━━━━━━━━━━━━━━━━━━━━━━━━━━━\u001b[0m \u001b[32m6.3/6.3 MB\u001b[0m \u001b[31m46.5 MB/s\u001b[0m eta \u001b[36m0:00:00\u001b[0m\n",
            "\u001b[?25hRequirement already satisfied: requests in /usr/local/lib/python3.8/dist-packages (from transformers) (2.25.1)\n",
            "Requirement already satisfied: tqdm>=4.27 in /usr/local/lib/python3.8/dist-packages (from transformers) (4.64.1)\n",
            "Requirement already satisfied: packaging>=20.0 in /usr/local/lib/python3.8/dist-packages (from transformers) (23.0)\n",
            "Requirement already satisfied: pyyaml>=5.1 in /usr/local/lib/python3.8/dist-packages (from transformers) (6.0)\n",
            "Requirement already satisfied: filelock in /usr/local/lib/python3.8/dist-packages (from transformers) (3.9.0)\n",
            "Collecting tokenizers!=0.11.3,<0.14,>=0.11.1\n",
            "  Downloading tokenizers-0.13.2-cp38-cp38-manylinux_2_17_x86_64.manylinux2014_x86_64.whl (7.6 MB)\n",
            "\u001b[2K     \u001b[90m━━━━━━━━━━━━━━━━━━━━━━━━━━━━━━━━━━━━━━━━\u001b[0m \u001b[32m7.6/7.6 MB\u001b[0m \u001b[31m59.9 MB/s\u001b[0m eta \u001b[36m0:00:00\u001b[0m\n",
            "\u001b[?25hRequirement already satisfied: numpy>=1.17 in /usr/local/lib/python3.8/dist-packages (from transformers) (1.21.6)\n",
            "Requirement already satisfied: regex!=2019.12.17 in /usr/local/lib/python3.8/dist-packages (from transformers) (2022.6.2)\n",
            "Collecting huggingface-hub<1.0,>=0.11.0\n",
            "  Downloading huggingface_hub-0.12.0-py3-none-any.whl (190 kB)\n",
            "\u001b[2K     \u001b[90m━━━━━━━━━━━━━━━━━━━━━━━━━━━━━━━━━━━━━━\u001b[0m \u001b[32m190.3/190.3 KB\u001b[0m \u001b[31m23.3 MB/s\u001b[0m eta \u001b[36m0:00:00\u001b[0m\n",
            "\u001b[?25hRequirement already satisfied: typing-extensions>=3.7.4.3 in /usr/local/lib/python3.8/dist-packages (from huggingface-hub<1.0,>=0.11.0->transformers) (4.4.0)\n",
            "Requirement already satisfied: chardet<5,>=3.0.2 in /usr/local/lib/python3.8/dist-packages (from requests->transformers) (4.0.0)\n",
            "Requirement already satisfied: idna<3,>=2.5 in /usr/local/lib/python3.8/dist-packages (from requests->transformers) (2.10)\n",
            "Requirement already satisfied: urllib3<1.27,>=1.21.1 in /usr/local/lib/python3.8/dist-packages (from requests->transformers) (1.24.3)\n",
            "Requirement already satisfied: certifi>=2017.4.17 in /usr/local/lib/python3.8/dist-packages (from requests->transformers) (2022.12.7)\n",
            "Installing collected packages: tokenizers, huggingface-hub, transformers\n",
            "Successfully installed huggingface-hub-0.12.0 tokenizers-0.13.2 transformers-4.26.0\n"
          ]
        }
      ]
    },
    {
      "cell_type": "markdown",
      "source": [
        "# Getting to know the BERT model"
      ],
      "metadata": {
        "id": "s89WC4YdvnhQ"
      }
    },
    {
      "cell_type": "code",
      "execution_count": null,
      "metadata": {
        "colab": {
          "base_uri": "https://localhost:8080/",
          "referenced_widgets": [
            "595eccacbc434d66836916130a8dfbf3",
            "db9751c667c94daca2177f3ccbfc4c4d",
            "8e892d11ad8349478c44486c67322b7f",
            "7fca66fce56e4a6da25571c864fdd393",
            "905b3add03334d02997322a0b4ce9ba4",
            "792c25ae03b64be2b471f042dd9f3f6d",
            "7dd5ec045e144743836d51fcc3081035",
            "d53ac3667aa9415e99d93de43d0934a9",
            "7411051362e340b68b68d0bc58d4dcc0",
            "04c7675ed6f24f198ccef168a244619e",
            "120b53c56af0453997d1edb4ed301f52",
            "232be43c9f334babaf0a524efdb51f76",
            "986ae195a8574c869ac24d96a6301ff9",
            "a6c7f22427514d87a0cfe9f2423b158b",
            "d3a52c261fa14ffe801abb1ce694ee91",
            "eb08e49bd294433888481f2cbdd31b8d",
            "355124efbd344e28a48adc5a0f15d69d",
            "076c7ffaccaf406691c51663d304d611",
            "71c2d4c1babb42c4bbd929c2acf42a5b",
            "78afd3e221384482aab764b77f15b5b6",
            "ad6894dafd2f45fe8fd59af5a7664fb5",
            "7dad397ef1ad40f2b41fd765c025f5d8",
            "d5467745e3f7406abd2feebe24bbe138",
            "bf9380c5543a4060a517f43d86c86cd9",
            "d357f3065f0d44c7a1e59f67cf66d558",
            "93cad0846981423c83241cacd34d5d61",
            "757d1fbf22864e1e9d83ef4e48c75e5a",
            "9b3d433e0b9f479eb0113f46c7068306",
            "a87d401021dc4b949ca9b2a26b637215",
            "5087ca6b53eb45cc8d4a0c24c69f9e0a",
            "7174e23a06da4dfc83aca05491c8aeda",
            "2b2ea5009e2b4bf5b16e080aa8c594a0",
            "150ea1a3fdac4de6af27c0c608f46c50"
          ]
        },
        "id": "Nj9u77RSuMN0",
        "outputId": "d74ac103-ae67-40f9-8edf-b56cde36ffd5"
      },
      "outputs": [
        {
          "output_type": "display_data",
          "data": {
            "text/plain": [
              "Downloading (…)lve/main/config.json:   0%|          | 0.00/440 [00:00<?, ?B/s]"
            ],
            "application/vnd.jupyter.widget-view+json": {
              "version_major": 2,
              "version_minor": 0,
              "model_id": "595eccacbc434d66836916130a8dfbf3"
            }
          },
          "metadata": {}
        },
        {
          "output_type": "display_data",
          "data": {
            "text/plain": [
              "Downloading (…)solve/main/vocab.txt:   0%|          | 0.00/1.20M [00:00<?, ?B/s]"
            ],
            "application/vnd.jupyter.widget-view+json": {
              "version_major": 2,
              "version_minor": 0,
              "model_id": "232be43c9f334babaf0a524efdb51f76"
            }
          },
          "metadata": {}
        },
        {
          "output_type": "display_data",
          "data": {
            "text/plain": [
              "Downloading (…)\"pytorch_model.bin\";:   0%|          | 0.00/654M [00:00<?, ?B/s]"
            ],
            "application/vnd.jupyter.widget-view+json": {
              "version_major": 2,
              "version_minor": 0,
              "model_id": "d5467745e3f7406abd2feebe24bbe138"
            }
          },
          "metadata": {}
        },
        {
          "output_type": "stream",
          "name": "stderr",
          "text": [
            "Some weights of the model checkpoint at HooshvareLab/bert-fa-base-uncased were not used when initializing BertModel: ['cls.predictions.transform.LayerNorm.weight', 'cls.predictions.decoder.bias', 'cls.predictions.transform.dense.weight', 'cls.predictions.decoder.weight', 'cls.predictions.transform.dense.bias', 'cls.seq_relationship.weight', 'cls.predictions.transform.LayerNorm.bias', 'cls.predictions.bias', 'cls.seq_relationship.bias']\n",
            "- This IS expected if you are initializing BertModel from the checkpoint of a model trained on another task or with another architecture (e.g. initializing a BertForSequenceClassification model from a BertForPreTraining model).\n",
            "- This IS NOT expected if you are initializing BertModel from the checkpoint of a model that you expect to be exactly identical (initializing a BertForSequenceClassification model from a BertForSequenceClassification model).\n"
          ]
        }
      ],
      "source": [
        "from transformers import BertModel, BertTokenizer, BertConfig\n",
        "\n",
        "config = BertConfig.from_pretrained(\"HooshvareLab/bert-fa-base-uncased\")\n",
        "tokenizer = BertTokenizer.from_pretrained(\"HooshvareLab/bert-fa-base-uncased\")\n",
        "bert_model = BertModel.from_pretrained(\"HooshvareLab/bert-fa-base-uncased\")"
      ]
    },
    {
      "cell_type": "code",
      "source": [
        "sample_text = \"قایقی خواهم ساخت، خواهم انداخت به آب. دور خواهم شد از این خاک غریب که در آن هیچ‌کسی نیست که در بیشه عشق قهرمانان را بیدار کند.\"\n",
        "tokenizer.tokenize(sample_text)"
      ],
      "metadata": {
        "colab": {
          "base_uri": "https://localhost:8080/"
        },
        "id": "IQdKe9w3uNuw",
        "outputId": "1983fed6-be01-45f9-95ad-a0b9bfb106f8"
      },
      "execution_count": null,
      "outputs": [
        {
          "output_type": "execute_result",
          "data": {
            "text/plain": [
              "['قایقی',\n",
              " 'خواهم',\n",
              " 'ساخت',\n",
              " '،',\n",
              " 'خواهم',\n",
              " 'انداخت',\n",
              " 'به',\n",
              " 'اب',\n",
              " '.',\n",
              " 'دور',\n",
              " 'خواهم',\n",
              " 'شد',\n",
              " 'از',\n",
              " 'این',\n",
              " 'خاک',\n",
              " 'غریب',\n",
              " 'که',\n",
              " 'در',\n",
              " 'ان',\n",
              " 'هیچکسی',\n",
              " 'نیست',\n",
              " 'که',\n",
              " 'در',\n",
              " 'بیشه',\n",
              " 'عشق',\n",
              " 'قهرمانان',\n",
              " 'را',\n",
              " 'بیدار',\n",
              " 'کند',\n",
              " '.']"
            ]
          },
          "metadata": {},
          "execution_count": 4
        }
      ]
    },
    {
      "cell_type": "markdown",
      "source": [
        "# Dataset"
      ],
      "metadata": {
        "id": "dIkQKLmWxzaJ"
      }
    },
    {
      "cell_type": "code",
      "source": [
        "!git clone 'https://github.com/amnghd/Persian_poems_corpus.git'"
      ],
      "metadata": {
        "colab": {
          "base_uri": "https://localhost:8080/"
        },
        "id": "8Nez2PDazCH1",
        "outputId": "5851301e-4a56-4e91-a904-b2e5aa6f9354"
      },
      "execution_count": null,
      "outputs": [
        {
          "output_type": "stream",
          "name": "stdout",
          "text": [
            "Cloning into 'Persian_poems_corpus'...\n",
            "remote: Enumerating objects: 159, done.\u001b[K\n",
            "remote: Total 159 (delta 0), reused 0 (delta 0), pack-reused 159\u001b[K\n",
            "Receiving objects: 100% (159/159), 45.21 MiB | 12.96 MiB/s, done.\n",
            "Resolving deltas: 100% (3/3), done.\n",
            "Updating files: 100% (148/148), done.\n"
          ]
        }
      ]
    },
    {
      "cell_type": "code",
      "source": [
        "POETS = [\"bahar\", \"hafez\", \"kamal\", \"parvin\", \"saadi\",\n",
        "         \"sanaee\", \"vahshi\", \"eraghi\", \"iqbal\", \"moulavi\"]"
      ],
      "metadata": {
        "id": "cf-ILHbuxsWF"
      },
      "execution_count": null,
      "outputs": []
    },
    {
      "cell_type": "code",
      "source": [
        "def load_data(poets):\n",
        "    beyts_all = []\n",
        "    n_beyts = []\n",
        "    labels_all = []\n",
        "    for i, poet in enumerate(poets):\n",
        "        file_name = poet + \"_norm.txt\"\n",
        "        root = \"/content/Persian_poems_corpus/normalized\"\n",
        "        path = os.path.join(root, file_name)\n",
        "        with open(path, 'r') as f:\n",
        "            txt = f.read().splitlines()[2:]\n",
        "        m1 = txt[0::2]\n",
        "        m2 = txt[1::2]\n",
        "        beyts = [\" \".join([x, y]) for x, y in zip(m1, m2)]\n",
        "        n_beyts.append(len(beyts))\n",
        "        labels = i * np.ones(len(beyts))\n",
        "        beyts_all.append(beyts)\n",
        "        labels_all.append(labels)\n",
        "    # labels_all = np.concatenate(labels_all)\n",
        "\n",
        "    return beyts_all, labels_all, np.array(n_beyts)"
      ],
      "metadata": {
        "id": "CWgLgh8Myved"
      },
      "execution_count": null,
      "outputs": []
    },
    {
      "cell_type": "code",
      "source": [
        "X, y, n_beyts = load_data(POETS)\n",
        "n_beyts_min = n_beyts.min()"
      ],
      "metadata": {
        "id": "70aJNeknpJhk"
      },
      "execution_count": null,
      "outputs": []
    },
    {
      "cell_type": "code",
      "source": [
        "n_beyts_min"
      ],
      "metadata": {
        "colab": {
          "base_uri": "https://localhost:8080/"
        },
        "id": "7r6n1uHLTg3r",
        "outputId": "9e91e2a8-9c83-409c-871b-55d24d947903"
      },
      "execution_count": null,
      "outputs": [
        {
          "output_type": "execute_result",
          "data": {
            "text/plain": [
              "5113"
            ]
          },
          "metadata": {},
          "execution_count": 9
        }
      ]
    },
    {
      "cell_type": "code",
      "source": [
        "X_final = []\n",
        "y_final = []\n",
        "for i, x in enumerate(X):\n",
        "    idx = np.arange(n_beyts[i])\n",
        "    np.random.shuffle(idx)\n",
        "    x_temp = [x[j] for j in range(n_beyts_min)]\n",
        "    X_final += x_temp\n",
        "    y_final.append(y[i][:n_beyts_min])\n",
        "y_final = np.concatenate(y_final)\n",
        "print(len(y_final), len(X_final))"
      ],
      "metadata": {
        "colab": {
          "base_uri": "https://localhost:8080/"
        },
        "id": "6-NG1svgNW3L",
        "outputId": "87346f4e-36e6-4620-8b8e-544e3bf65920"
      },
      "execution_count": null,
      "outputs": [
        {
          "output_type": "stream",
          "name": "stdout",
          "text": [
            "51130 51130\n"
          ]
        }
      ]
    },
    {
      "cell_type": "code",
      "source": [
        "class MyDataset(Dataset):\n",
        "    def __init__(self, beyts, labels, tokenizer_):\n",
        "        self.beyts = beyts\n",
        "        self.labels = labels\n",
        "        self.tokenizer_ = tokenizer_\n",
        "\n",
        "    def __len__(self):\n",
        "        return len(self.labels)\n",
        "\n",
        "    def __getitem__(self, item):\n",
        "        \n",
        "        beyt = self.beyts[item]\n",
        "        label = self.labels[item]\n",
        "\n",
        "        tokenized = self.tokenizer_.encode_plus(\n",
        "            beyt,\n",
        "            None,\n",
        "            add_special_tokens=True,\n",
        "            max_length= 50,\n",
        "            padding='max_length',\n",
        "            return_token_type_ids=True,\n",
        "            return_tensors='pt'\n",
        "        )\n",
        "\n",
        "        tokenized['label'] = torch.LongTensor([int(label)])\n",
        "        tokenized['input_ids'] = tokenized['input_ids'].flatten()\n",
        "        tokenized['token_type_ids'] = tokenized['token_type_ids'].flatten()\n",
        "        tokenized['attention_mask'] = tokenized['attention_mask'].flatten()\n",
        "        return tokenized"
      ],
      "metadata": {
        "id": "uFIIwpbD_SKv"
      },
      "execution_count": null,
      "outputs": []
    },
    {
      "cell_type": "code",
      "source": [
        "data = MyDataset(X_final, y_final, tokenizer)\n",
        "print(f\"Length of the data is {len(data)}\")"
      ],
      "metadata": {
        "colab": {
          "base_uri": "https://localhost:8080/"
        },
        "id": "7ZGHq10i-Dtj",
        "outputId": "e78a55bf-d794-4eb4-a3d1-a919a5f9ca19"
      },
      "execution_count": null,
      "outputs": [
        {
          "output_type": "stream",
          "name": "stdout",
          "text": [
            "Length of the data is 51130\n"
          ]
        }
      ]
    },
    {
      "cell_type": "code",
      "source": [
        "train_data, validation_data, test_data = random_split(data, [0.7, 0.1, 0.2])"
      ],
      "metadata": {
        "id": "ce4RgJENES9W"
      },
      "execution_count": null,
      "outputs": []
    },
    {
      "cell_type": "markdown",
      "source": [
        "# Part A)"
      ],
      "metadata": {
        "id": "3f2SCzuZGpKH"
      }
    },
    {
      "cell_type": "code",
      "source": [
        "device = \"cuda\" if torch.cuda.is_available() else \"cpu\"\n",
        "print(device)"
      ],
      "metadata": {
        "colab": {
          "base_uri": "https://localhost:8080/"
        },
        "id": "iHh-9HxINwbY",
        "outputId": "65036b60-1cd7-4071-ee5c-5ad8dc43357a"
      },
      "execution_count": null,
      "outputs": [
        {
          "output_type": "stream",
          "name": "stdout",
          "text": [
            "cuda\n"
          ]
        }
      ]
    },
    {
      "cell_type": "code",
      "source": [
        "# PARAMS\n",
        "BATCH_SIZE = 32\n",
        "EPOCHS = 20"
      ],
      "metadata": {
        "id": "vI7twb6EUGXH"
      },
      "execution_count": null,
      "outputs": []
    },
    {
      "cell_type": "code",
      "source": [
        "class MyModel(nn.Module):\n",
        "    def __init__(self, \n",
        "                 language_model,\n",
        "                 classifier_model,\n",
        "                 tuning_method,\n",
        "                 criterion=nn.CrossEntropyLoss(),\n",
        "                 optimizer=\"ADAM\",\n",
        "                 lr=1e-3):\n",
        "        \n",
        "        super(MyModel, self).__init__()\n",
        "        self.criterion = criterion\n",
        "        self.language_model = language_model\n",
        "        self.classifier_model = classifier_model\n",
        "        \n",
        "        params = self.classifier_model.parameters()\n",
        "        if tuning_method == \"fine-tune\":\n",
        "            params = list(params) + list(self.language_model.parameters())\n",
        "\n",
        "        if optimizer == \"ADAM\":\n",
        "            self.optimizer = torch.optim.Adam(params, lr=lr)\n",
        "        elif optimizer == \"SGD\":\n",
        "            self.optimizer = torch.optim.SGD(params, lr=lr)\n",
        "        else:\n",
        "            raise NotImplementedError\n",
        "\n",
        "    def forward(self, ids, types, mask):\n",
        "        z = self.language_model(\n",
        "            input_ids=ids,\n",
        "            attention_mask=mask,\n",
        "            token_type_ids=types\n",
        "        )\n",
        "        out = self.classifier_model(z[\"pooler_output\"])\n",
        "        return out\n",
        "\n",
        "    @staticmethod\n",
        "    def calculate_accuracy(outputs, true_labels):\n",
        "        predicted = torch.argmax(outputs, dim=-1)\n",
        "        accuracy = torch.sum(predicted == true_labels) / true_labels.shape[0]\n",
        "        return accuracy.item()\n",
        "\n",
        "    def evaluate(self, evaluation_data, batch_size, phase):\n",
        "        self.eval()\n",
        "        evaluation_loader = DataLoader(evaluation_data,\n",
        "                                       batch_size=batch_size,\n",
        "                                       shuffle=True)\n",
        "        loss = 0\n",
        "        accuracy = 0\n",
        "        cm = np.zeros((len(POETS), len(POETS)), dtype=int)\n",
        "        for batch in evaluation_loader:\n",
        "            with torch.no_grad():\n",
        "                ids = batch[\"input_ids\"].to(device)\n",
        "                types = batch[\"token_type_ids\"].to(device)\n",
        "                mask = batch[\"attention_mask\"].to(device)\n",
        "                labels = batch[\"label\"].flatten()\n",
        "            \n",
        "                outputs = self.forward(ids, types, mask)\n",
        "                predicted = torch.argmax(outputs, dim=-1)\n",
        "                loss += self.criterion(outputs, labels.to(device)).cpu().item() * len(labels)\n",
        "                accuracy += self.calculate_accuracy(outputs.cpu(), labels) * len(labels)\n",
        "                if phase == \"test\":\n",
        "                    cm += confusion_matrix(labels, \n",
        "                                           predicted.cpu(),\n",
        "                                           labels=[i for i in range(len(POETS))])\n",
        "        accuracy /= len(evaluation_data)\n",
        "        loss /= len(evaluation_data)\n",
        "        return accuracy, loss, cm\n",
        "\n",
        "    def fit(self, train_data, val_data, batch_size=64, n_epoch=12):\n",
        "\n",
        "        train_loader = DataLoader(train_data,\n",
        "                                  batch_size=batch_size,\n",
        "                                  shuffle=True)\n",
        "\n",
        "        self.train_acc = []\n",
        "        self.val_acc = []\n",
        "        self.train_loss = []\n",
        "        self.val_loss = []\n",
        "\n",
        "        self.train()\n",
        "        for epoch in range(n_epoch):\n",
        "            print(f\"Epoch #{epoch}:\")\n",
        "            for batch in tqdm(train_loader):\n",
        "                ids = batch[\"input_ids\"].to(device)\n",
        "                types = batch[\"token_type_ids\"].to(device)\n",
        "                mask = batch[\"attention_mask\"].to(device)\n",
        "                labels = batch[\"label\"].flatten()\n",
        "\n",
        "                output = self.forward(ids, types, mask)\n",
        "                self.optimizer.zero_grad()\n",
        "                loss = self.criterion(output, labels.to(device))\n",
        "                loss.backward()\n",
        "                self.optimizer.step()\n",
        "\n",
        "            train_acc_epoch, train_loss_epoch, train_cm = self.evaluate(train_data, batch_size, \"train\")\n",
        "            val_acc_epoch, val_loss_epoch, val_cm = self.evaluate(val_data, batch_size, \"validation\")\n",
        "            self.train_acc.append(train_acc_epoch)\n",
        "            self.train_loss.append(train_loss_epoch)\n",
        "            self.val_acc.append(val_acc_epoch)\n",
        "            self.val_loss.append(val_loss_epoch)\n",
        "\n",
        "            print(f\"training_accuracy={round(train_acc_epoch*100, 2)}%,\" +\\\n",
        "                  f\"train_loss={round(train_loss_epoch, 2)}, \" +\\\n",
        "                  f\"validation_accuracy={round(val_acc_epoch*100, 2)}%, \" +\\\n",
        "                  f\"validation_loss={round(val_loss_epoch, 2)}\")"
      ],
      "metadata": {
        "id": "qiLA0aRWGsLM"
      },
      "execution_count": null,
      "outputs": []
    },
    {
      "cell_type": "code",
      "source": [
        "language_model_frozen = BertModel.from_pretrained(\"HooshvareLab/bert-fa-base-uncased\")"
      ],
      "metadata": {
        "colab": {
          "base_uri": "https://localhost:8080/"
        },
        "id": "bjo8mfLsRAj7",
        "outputId": "6f566632-f57e-4771-e005-6fc9c5d23352"
      },
      "execution_count": null,
      "outputs": [
        {
          "output_type": "stream",
          "name": "stderr",
          "text": [
            "Some weights of the model checkpoint at HooshvareLab/bert-fa-base-uncased were not used when initializing BertModel: ['cls.predictions.transform.LayerNorm.weight', 'cls.predictions.decoder.bias', 'cls.predictions.transform.dense.weight', 'cls.predictions.decoder.weight', 'cls.predictions.transform.dense.bias', 'cls.seq_relationship.weight', 'cls.predictions.transform.LayerNorm.bias', 'cls.predictions.bias', 'cls.seq_relationship.bias']\n",
            "- This IS expected if you are initializing BertModel from the checkpoint of a model trained on another task or with another architecture (e.g. initializing a BertForSequenceClassification model from a BertForPreTraining model).\n",
            "- This IS NOT expected if you are initializing BertModel from the checkpoint of a model that you expect to be exactly identical (initializing a BertForSequenceClassification model from a BertForSequenceClassification model).\n"
          ]
        }
      ]
    },
    {
      "cell_type": "code",
      "source": [
        "tmp_in = train_data[0]\n",
        "tmp_out = language_model_frozen(input_ids=tmp_in['input_ids'][None, :],\n",
        "                                attention_mask=tmp_in['attention_mask'][None, :],\n",
        "                                token_type_ids=tmp_in['token_type_ids'][None, :])['pooler_output']\n",
        "linear_in_size = tmp_out.shape[1]"
      ],
      "metadata": {
        "id": "dOMp2MaDRUVk"
      },
      "execution_count": null,
      "outputs": []
    },
    {
      "cell_type": "code",
      "source": [
        "linear_model = nn.Sequential(*[\n",
        "    nn.Flatten(),\n",
        "    nn.Dropout(),\n",
        "    nn.Linear(linear_in_size, len(POETS))\n",
        "    ])"
      ],
      "metadata": {
        "id": "SfEoF1yVRrQJ"
      },
      "execution_count": null,
      "outputs": []
    },
    {
      "cell_type": "code",
      "source": [
        "end_to_end_linear_tune_adam = MyModel(language_model_frozen,\n",
        "                                      linear_model,\n",
        "                                      \"linear_tune\",\n",
        "                                      optimizer=\"ADAM\").to(device)"
      ],
      "metadata": {
        "id": "eYtiyqLNS7AT"
      },
      "execution_count": null,
      "outputs": []
    },
    {
      "cell_type": "code",
      "source": [
        "end_to_end_linear_tune_adam.fit(train_data,\n",
        "                                validation_data,\n",
        "                                batch_size=BATCH_SIZE,\n",
        "                                n_epoch=EPOCHS)"
      ],
      "metadata": {
        "colab": {
          "base_uri": "https://localhost:8080/"
        },
        "id": "fR8pHX6tTcsz",
        "outputId": "5c283e59-0925-4440-d725-bf10cb8204ff"
      },
      "execution_count": null,
      "outputs": [
        {
          "output_type": "stream",
          "name": "stdout",
          "text": [
            "Epoch #0:\n"
          ]
        },
        {
          "output_type": "stream",
          "name": "stderr",
          "text": [
            "100%|██████████| 1119/1119 [04:28<00:00,  4.17it/s]\n"
          ]
        },
        {
          "output_type": "stream",
          "name": "stdout",
          "text": [
            "training_accuracy=32.12%,train_loss=1.94, validation_accuracy=32.92%, validation_loss=1.94\n",
            "Epoch #1:\n"
          ]
        },
        {
          "output_type": "stream",
          "name": "stderr",
          "text": [
            "100%|██████████| 1119/1119 [04:33<00:00,  4.10it/s]\n"
          ]
        },
        {
          "output_type": "stream",
          "name": "stdout",
          "text": [
            "training_accuracy=34.71%,train_loss=1.85, validation_accuracy=33.31%, validation_loss=1.87\n",
            "Epoch #2:\n"
          ]
        },
        {
          "output_type": "stream",
          "name": "stderr",
          "text": [
            "100%|██████████| 1119/1119 [04:32<00:00,  4.10it/s]\n"
          ]
        },
        {
          "output_type": "stream",
          "name": "stdout",
          "text": [
            "training_accuracy=35.57%,train_loss=1.81, validation_accuracy=35.28%, validation_loss=1.83\n",
            "Epoch #3:\n"
          ]
        },
        {
          "output_type": "stream",
          "name": "stderr",
          "text": [
            "100%|██████████| 1119/1119 [04:32<00:00,  4.11it/s]\n"
          ]
        },
        {
          "output_type": "stream",
          "name": "stdout",
          "text": [
            "training_accuracy=39.17%,train_loss=1.75, validation_accuracy=37.22%, validation_loss=1.78\n",
            "Epoch #4:\n"
          ]
        },
        {
          "output_type": "stream",
          "name": "stderr",
          "text": [
            "100%|██████████| 1119/1119 [04:32<00:00,  4.11it/s]\n"
          ]
        },
        {
          "output_type": "stream",
          "name": "stdout",
          "text": [
            "training_accuracy=37.68%,train_loss=1.76, validation_accuracy=36.96%, validation_loss=1.79\n",
            "Epoch #5:\n"
          ]
        },
        {
          "output_type": "stream",
          "name": "stderr",
          "text": [
            "100%|██████████| 1119/1119 [04:32<00:00,  4.10it/s]\n"
          ]
        },
        {
          "output_type": "stream",
          "name": "stdout",
          "text": [
            "training_accuracy=41.0%,train_loss=1.7, validation_accuracy=39.59%, validation_loss=1.73\n",
            "Epoch #6:\n"
          ]
        },
        {
          "output_type": "stream",
          "name": "stderr",
          "text": [
            "100%|██████████| 1119/1119 [04:32<00:00,  4.11it/s]\n"
          ]
        },
        {
          "output_type": "stream",
          "name": "stdout",
          "text": [
            "training_accuracy=39.31%,train_loss=1.73, validation_accuracy=38.39%, validation_loss=1.76\n",
            "Epoch #7:\n"
          ]
        },
        {
          "output_type": "stream",
          "name": "stderr",
          "text": [
            "100%|██████████| 1119/1119 [04:32<00:00,  4.11it/s]\n"
          ]
        },
        {
          "output_type": "stream",
          "name": "stdout",
          "text": [
            "training_accuracy=42.05%,train_loss=1.66, validation_accuracy=40.52%, validation_loss=1.71\n",
            "Epoch #8:\n"
          ]
        },
        {
          "output_type": "stream",
          "name": "stderr",
          "text": [
            "100%|██████████| 1119/1119 [04:32<00:00,  4.11it/s]\n"
          ]
        },
        {
          "output_type": "stream",
          "name": "stdout",
          "text": [
            "training_accuracy=40.71%,train_loss=1.7, validation_accuracy=39.39%, validation_loss=1.74\n",
            "Epoch #9:\n"
          ]
        },
        {
          "output_type": "stream",
          "name": "stderr",
          "text": [
            "100%|██████████| 1119/1119 [04:32<00:00,  4.11it/s]\n"
          ]
        },
        {
          "output_type": "stream",
          "name": "stdout",
          "text": [
            "training_accuracy=40.71%,train_loss=1.67, validation_accuracy=39.59%, validation_loss=1.71\n",
            "Epoch #10:\n"
          ]
        },
        {
          "output_type": "stream",
          "name": "stderr",
          "text": [
            "100%|██████████| 1119/1119 [04:32<00:00,  4.11it/s]\n"
          ]
        },
        {
          "output_type": "stream",
          "name": "stdout",
          "text": [
            "training_accuracy=42.63%,train_loss=1.64, validation_accuracy=41.01%, validation_loss=1.7\n",
            "Epoch #11:\n"
          ]
        },
        {
          "output_type": "stream",
          "name": "stderr",
          "text": [
            "100%|██████████| 1119/1119 [04:32<00:00,  4.11it/s]\n"
          ]
        },
        {
          "output_type": "stream",
          "name": "stdout",
          "text": [
            "training_accuracy=41.35%,train_loss=1.68, validation_accuracy=39.76%, validation_loss=1.72\n",
            "Epoch #12:\n"
          ]
        },
        {
          "output_type": "stream",
          "name": "stderr",
          "text": [
            "100%|██████████| 1119/1119 [04:32<00:00,  4.11it/s]\n"
          ]
        },
        {
          "output_type": "stream",
          "name": "stdout",
          "text": [
            "training_accuracy=42.89%,train_loss=1.63, validation_accuracy=41.21%, validation_loss=1.68\n",
            "Epoch #13:\n"
          ]
        },
        {
          "output_type": "stream",
          "name": "stderr",
          "text": [
            "100%|██████████| 1119/1119 [04:32<00:00,  4.11it/s]\n"
          ]
        },
        {
          "output_type": "stream",
          "name": "stdout",
          "text": [
            "training_accuracy=43.59%,train_loss=1.62, validation_accuracy=41.33%, validation_loss=1.68\n",
            "Epoch #14:\n"
          ]
        },
        {
          "output_type": "stream",
          "name": "stderr",
          "text": [
            "100%|██████████| 1119/1119 [04:32<00:00,  4.10it/s]\n"
          ]
        },
        {
          "output_type": "stream",
          "name": "stdout",
          "text": [
            "training_accuracy=43.47%,train_loss=1.63, validation_accuracy=41.68%, validation_loss=1.69\n",
            "Epoch #15:\n"
          ]
        },
        {
          "output_type": "stream",
          "name": "stderr",
          "text": [
            "100%|██████████| 1119/1119 [04:32<00:00,  4.10it/s]\n"
          ]
        },
        {
          "output_type": "stream",
          "name": "stdout",
          "text": [
            "training_accuracy=43.38%,train_loss=1.62, validation_accuracy=42.15%, validation_loss=1.67\n",
            "Epoch #16:\n"
          ]
        },
        {
          "output_type": "stream",
          "name": "stderr",
          "text": [
            "100%|██████████| 1119/1119 [04:32<00:00,  4.11it/s]\n"
          ]
        },
        {
          "output_type": "stream",
          "name": "stdout",
          "text": [
            "training_accuracy=43.76%,train_loss=1.61, validation_accuracy=42.17%, validation_loss=1.67\n",
            "Epoch #17:\n"
          ]
        },
        {
          "output_type": "stream",
          "name": "stderr",
          "text": [
            "100%|██████████| 1119/1119 [04:32<00:00,  4.10it/s]\n"
          ]
        },
        {
          "output_type": "stream",
          "name": "stdout",
          "text": [
            "training_accuracy=44.46%,train_loss=1.6, validation_accuracy=42.81%, validation_loss=1.66\n",
            "Epoch #18:\n"
          ]
        },
        {
          "output_type": "stream",
          "name": "stderr",
          "text": [
            "100%|██████████| 1119/1119 [04:33<00:00,  4.09it/s]\n"
          ]
        },
        {
          "output_type": "stream",
          "name": "stdout",
          "text": [
            "training_accuracy=43.46%,train_loss=1.63, validation_accuracy=41.6%, validation_loss=1.69\n",
            "Epoch #19:\n"
          ]
        },
        {
          "output_type": "stream",
          "name": "stderr",
          "text": [
            "100%|██████████| 1119/1119 [04:32<00:00,  4.11it/s]\n"
          ]
        },
        {
          "output_type": "stream",
          "name": "stdout",
          "text": [
            "training_accuracy=43.54%,train_loss=1.62, validation_accuracy=41.83%, validation_loss=1.67\n"
          ]
        }
      ]
    },
    {
      "cell_type": "code",
      "source": [
        "def f1_from_cm(cm):\n",
        "    true_pos = np.diag(cm)\n",
        "    false_pos = np.sum(cm, axis=0) - true_pos\n",
        "    false_neg = np.sum(cm, axis=1) - true_pos\n",
        "    precision = np.sum(true_pos) / (np.sum(true_pos) + np.sum(false_pos))\n",
        "    recall = np.sum(true_pos) / (np.sum(true_pos) + np.sum(false_neg))\n",
        "    f1 = 2 * recall * precision / (recall + precision)\n",
        "    return f1"
      ],
      "metadata": {
        "id": "0vRlgRTco4JZ"
      },
      "execution_count": null,
      "outputs": []
    },
    {
      "cell_type": "code",
      "source": [
        "accuracy, loss, cm = end_to_end_linear_tune_adam.evaluate(test_data, BATCH_SIZE, \"test\")\n",
        "f1 = f1_from_cm(cm)\n",
        "print(\"Part A Test Results:\")\n",
        "print(f\"Accuracy: {100 * accuracy:.2f}%\")\n",
        "print(f\"Loss: {loss:.2f}\")\n",
        "print(f\"F1: {f1:.2f}\")"
      ],
      "metadata": {
        "colab": {
          "base_uri": "https://localhost:8080/"
        },
        "id": "uP4mlGXkyRMy",
        "outputId": "a3df9115-0a0d-4666-d530-74c5c3050fce"
      },
      "execution_count": null,
      "outputs": [
        {
          "output_type": "stream",
          "name": "stdout",
          "text": [
            "Part A Test Results:\n",
            "Accuracy: 41.42%\n",
            "Loss: 1.68\n",
            "F1: 0.41\n"
          ]
        }
      ]
    },
    {
      "cell_type": "code",
      "source": [
        "def plot_conf_mat(cm):\n",
        "        fig = plt.figure(figsize=(10, 8))\n",
        "        df_cm = pd.DataFrame(cm, index = [i for i in POETS],\n",
        "                      columns = [i for i in POETS])\n",
        "        sns.heatmap(df_cm, annot=True)\n",
        "        plt.xlabel(\"Predicted Label\")\n",
        "        plt.ylabel(\"True Label\")\n",
        "        plt.title(\"Confusion Matrix\")\n",
        "        return fig"
      ],
      "metadata": {
        "id": "0EsMroVzQDaj"
      },
      "execution_count": null,
      "outputs": []
    },
    {
      "cell_type": "code",
      "source": [
        "fig = plot_conf_mat(cm)\n",
        "plt.show()"
      ],
      "metadata": {
        "colab": {
          "base_uri": "https://localhost:8080/",
          "height": 513
        },
        "id": "7ZJ4i-3LUPQ8",
        "outputId": "e7c21103-1a2c-4203-fa32-bcc418a532f7"
      },
      "execution_count": null,
      "outputs": [
        {
          "output_type": "display_data",
          "data": {
            "text/plain": [
              "<Figure size 720x576 with 2 Axes>"
            ],
            "image/png": "[encoded data removed]"
          },
          "metadata": {
            "needs_background": "light"
          }
        }
      ]
    },
    {
      "cell_type": "markdown",
      "source": [
        "# Part B)"
      ],
      "metadata": {
        "id": "PDEiToPwUh-l"
      }
    },
    {
      "cell_type": "code",
      "source": [
        "language_model_trainable = BertModel.from_pretrained(\"HooshvareLab/bert-fa-base-uncased\")\n",
        "for param in language_model_trainable.parameters():\n",
        "    param.requires_grad = True"
      ],
      "metadata": {
        "id": "r-GOr1-sUjhr",
        "colab": {
          "base_uri": "https://localhost:8080/"
        },
        "outputId": "4239f269-f49e-421e-b694-049bd52039eb"
      },
      "execution_count": null,
      "outputs": [
        {
          "output_type": "stream",
          "name": "stderr",
          "text": [
            "Some weights of the model checkpoint at HooshvareLab/bert-fa-base-uncased were not used when initializing BertModel: ['cls.seq_relationship.weight', 'cls.predictions.transform.dense.weight', 'cls.predictions.transform.LayerNorm.bias', 'cls.predictions.decoder.bias', 'cls.seq_relationship.bias', 'cls.predictions.transform.LayerNorm.weight', 'cls.predictions.bias', 'cls.predictions.decoder.weight', 'cls.predictions.transform.dense.bias']\n",
            "- This IS expected if you are initializing BertModel from the checkpoint of a model trained on another task or with another architecture (e.g. initializing a BertForSequenceClassification model from a BertForPreTraining model).\n",
            "- This IS NOT expected if you are initializing BertModel from the checkpoint of a model that you expect to be exactly identical (initializing a BertForSequenceClassification model from a BertForSequenceClassification model).\n"
          ]
        }
      ]
    },
    {
      "cell_type": "code",
      "source": [
        "linear_model_fine_tune_adam = nn.Sequential(*[\n",
        "    nn.Flatten(),\n",
        "    nn.Dropout(),\n",
        "    nn.Linear(linear_in_size, len(POETS))\n",
        "    ])"
      ],
      "metadata": {
        "id": "GYsADFp7WEAp"
      },
      "execution_count": null,
      "outputs": []
    },
    {
      "cell_type": "code",
      "source": [
        "end_to_end_fine_tune_adam = MyModel(language_model_trainable,\n",
        "                                    linear_model_fine_tune_adam,\n",
        "                                    \"fine-tune\",\n",
        "                                    optimizer=\"ADAM\",\n",
        "                                    lr=1e-5).to(device)"
      ],
      "metadata": {
        "id": "8b24zTk3WJRa"
      },
      "execution_count": null,
      "outputs": []
    },
    {
      "cell_type": "code",
      "source": [
        "end_to_end_fine_tune_adam.fit(train_data,\n",
        "                              validation_data,\n",
        "                              batch_size=BATCH_SIZE,\n",
        "                              n_epoch=EPOCHS//4)"
      ],
      "metadata": {
        "colab": {
          "base_uri": "https://localhost:8080/"
        },
        "id": "kryRMgElRM8c",
        "outputId": "63f64472-5c99-4b1f-d5aa-c1e49f98ef3d"
      },
      "execution_count": null,
      "outputs": [
        {
          "output_type": "stream",
          "name": "stdout",
          "text": [
            "Epoch #0:\n"
          ]
        },
        {
          "output_type": "stream",
          "name": "stderr",
          "text": [
            "100%|██████████| 1119/1119 [05:21<00:00,  3.49it/s]\n"
          ]
        },
        {
          "output_type": "stream",
          "name": "stdout",
          "text": [
            "training_accuracy=61.82%,train_loss=1.15, validation_accuracy=55.66%, validation_loss=1.3\n",
            "Epoch #1:\n"
          ]
        },
        {
          "output_type": "stream",
          "name": "stderr",
          "text": [
            "100%|██████████| 1119/1119 [05:17<00:00,  3.52it/s]\n"
          ]
        },
        {
          "output_type": "stream",
          "name": "stdout",
          "text": [
            "training_accuracy=81.29%,train_loss=0.63, validation_accuracy=63.92%, validation_loss=1.06\n",
            "Epoch #2:\n"
          ]
        },
        {
          "output_type": "stream",
          "name": "stderr",
          "text": [
            "100%|██████████| 1119/1119 [05:19<00:00,  3.51it/s]\n"
          ]
        },
        {
          "output_type": "stream",
          "name": "stdout",
          "text": [
            "training_accuracy=93.87%,train_loss=0.25, validation_accuracy=66.32%, validation_loss=1.06\n",
            "Epoch #3:\n"
          ]
        },
        {
          "output_type": "stream",
          "name": "stderr",
          "text": [
            "100%|██████████| 1119/1119 [05:18<00:00,  3.52it/s]\n"
          ]
        },
        {
          "output_type": "stream",
          "name": "stdout",
          "text": [
            "training_accuracy=97.74%,train_loss=0.1, validation_accuracy=66.73%, validation_loss=1.25\n",
            "Epoch #4:\n"
          ]
        },
        {
          "output_type": "stream",
          "name": "stderr",
          "text": [
            "100%|██████████| 1119/1119 [05:17<00:00,  3.52it/s]\n"
          ]
        },
        {
          "output_type": "stream",
          "name": "stdout",
          "text": [
            "training_accuracy=98.07%,train_loss=0.08, validation_accuracy=66.3%, validation_loss=1.44\n"
          ]
        }
      ]
    },
    {
      "cell_type": "code",
      "source": [
        "accuracy, loss, cm = end_to_end_fine_tune_adam.evaluate(test_data, BATCH_SIZE, \"test\")\n",
        "f1 = f1_from_cm(cm)\n",
        "print(\"Part B Test Results (ADAM):\")\n",
        "print(f\"Accuracy: {100 * accuracy:.2f}%\")\n",
        "print(f\"Loss: {loss:.2f}\")\n",
        "print(f\"F1: {f1:.2f}\")"
      ],
      "metadata": {
        "colab": {
          "base_uri": "https://localhost:8080/"
        },
        "id": "XBzl8LNcRQYI",
        "outputId": "aac400eb-c1b5-4e7c-eeda-a5b28f0d5f68"
      },
      "execution_count": null,
      "outputs": [
        {
          "output_type": "stream",
          "name": "stdout",
          "text": [
            "Part B Test Results (ADAM):\n",
            "Accuracy: 65.89%\n",
            "Loss: 1.44\n",
            "F1: 0.66\n"
          ]
        }
      ]
    },
    {
      "cell_type": "code",
      "source": [
        "fig = plot_conf_mat(cm)\n",
        "plt.show()"
      ],
      "metadata": {
        "colab": {
          "base_uri": "https://localhost:8080/",
          "height": 513
        },
        "id": "gx_ydho6mQCn",
        "outputId": "820453e2-90fb-4a4b-b71e-2288c2800a40"
      },
      "execution_count": null,
      "outputs": [
        {
          "output_type": "display_data",
          "data": {
            "text/plain": [
              "<Figure size 720x576 with 2 Axes>"
            ],
            "image/png": "[encoded data removed]"
          },
          "metadata": {
            "needs_background": "light"
          }
        }
      ]
    },
    {
      "cell_type": "code",
      "source": [
        "language_model_trainable_2 = BertModel.from_pretrained(\"HooshvareLab/bert-fa-base-uncased\")\n",
        "for param in language_model_trainable_2.parameters():\n",
        "    param.requires_grad = True"
      ],
      "metadata": {
        "colab": {
          "base_uri": "https://localhost:8080/"
        },
        "id": "Ld5_f3nknkK6",
        "outputId": "79574733-da5f-4a73-928b-d281da98d757"
      },
      "execution_count": null,
      "outputs": [
        {
          "output_type": "stream",
          "name": "stderr",
          "text": [
            "Some weights of the model checkpoint at HooshvareLab/bert-fa-base-uncased were not used when initializing BertModel: ['cls.seq_relationship.weight', 'cls.predictions.transform.dense.weight', 'cls.predictions.transform.LayerNorm.bias', 'cls.predictions.decoder.bias', 'cls.seq_relationship.bias', 'cls.predictions.transform.LayerNorm.weight', 'cls.predictions.bias', 'cls.predictions.decoder.weight', 'cls.predictions.transform.dense.bias']\n",
            "- This IS expected if you are initializing BertModel from the checkpoint of a model trained on another task or with another architecture (e.g. initializing a BertForSequenceClassification model from a BertForPreTraining model).\n",
            "- This IS NOT expected if you are initializing BertModel from the checkpoint of a model that you expect to be exactly identical (initializing a BertForSequenceClassification model from a BertForSequenceClassification model).\n"
          ]
        }
      ]
    },
    {
      "cell_type": "code",
      "source": [
        "linear_model_fine_tune_sgd = nn.Sequential(*[\n",
        "    nn.Flatten(),\n",
        "    nn.Dropout(),\n",
        "    nn.Linear(linear_in_size, len(POETS))\n",
        "    ])"
      ],
      "metadata": {
        "id": "FJFiK95Znt2O"
      },
      "execution_count": null,
      "outputs": []
    },
    {
      "cell_type": "code",
      "source": [
        "end_to_end_fine_tune_sgd = MyModel(language_model_trainable_2,\n",
        "                                    linear_model_fine_tune_adam,\n",
        "                                    \"fine-tune\",\n",
        "                                    optimizer=\"SGD\",\n",
        "                                    lr=1e-4).to(device)"
      ],
      "metadata": {
        "id": "ZJDeQkFvnwVD"
      },
      "execution_count": null,
      "outputs": []
    },
    {
      "cell_type": "code",
      "source": [
        "end_to_end_fine_tune_sgd.fit(train_data,\n",
        "                             validation_data,\n",
        "                             batch_size=BATCH_SIZE,\n",
        "                             n_epoch=EPOCHS)"
      ],
      "metadata": {
        "colab": {
          "base_uri": "https://localhost:8080/"
        },
        "id": "cdWDZ-Uun5zJ",
        "outputId": "bb039e76-43a9-4bc3-f0db-6e6dc476e505"
      },
      "execution_count": null,
      "outputs": [
        {
          "metadata": {
            "tags": null
          },
          "name": "stdout",
          "output_type": "stream",
          "text": [
            "Epoch #0:\n"
          ]
        },
        {
          "metadata": {
            "tags": null
          },
          "name": "stderr",
          "output_type": "stream",
          "text": [
            "100%|██████████| 1119/1119 [04:33<00:00,  4.08it/s]\n"
          ]
        },
        {
          "metadata": {
            "tags": null
          },
          "name": "stdout",
          "output_type": "stream",
          "text": [
            "training_accuracy=21.57%,train_loss=2.14, validation_accuracy=21.9%, validation_loss=2.13\n",
            "Epoch #1:\n"
          ]
        },
        {
          "metadata": {
            "tags": null
          },
          "name": "stderr",
          "output_type": "stream",
          "text": [
            "100%|██████████| 1119/1119 [04:31<00:00,  4.13it/s]\n"
          ]
        },
        {
          "metadata": {
            "tags": null
          },
          "name": "stdout",
          "output_type": "stream",
          "text": [
            "training_accuracy=26.59%,train_loss=2.03, validation_accuracy=25.88%, validation_loss=2.03\n",
            "Epoch #2:\n"
          ]
        },
        {
          "metadata": {
            "tags": null
          },
          "name": "stderr",
          "output_type": "stream",
          "text": [
            "100%|██████████| 1119/1119 [04:30<00:00,  4.13it/s]\n"
          ]
        },
        {
          "metadata": {
            "tags": null
          },
          "name": "stdout",
          "output_type": "stream",
          "text": [
            "training_accuracy=29.88%,train_loss=1.98, validation_accuracy=29.22%, validation_loss=1.99\n",
            "Epoch #3:\n"
          ]
        },
        {
          "output_type": "stream",
          "name": "stderr",
          "text": [
            "100%|██████████| 1119/1119 [04:31<00:00,  4.12it/s]\n"
          ]
        },
        {
          "output_type": "stream",
          "name": "stdout",
          "text": [
            "training_accuracy=32.47%,train_loss=1.94, validation_accuracy=31.72%, validation_loss=1.94\n",
            "Epoch #4:\n"
          ]
        },
        {
          "output_type": "stream",
          "name": "stderr",
          "text": [
            "100%|██████████| 1119/1119 [04:31<00:00,  4.12it/s]\n"
          ]
        },
        {
          "output_type": "stream",
          "name": "stdout",
          "text": [
            "training_accuracy=34.37%,train_loss=1.89, validation_accuracy=32.94%, validation_loss=1.9\n",
            "Epoch #5:\n"
          ]
        },
        {
          "output_type": "stream",
          "name": "stderr",
          "text": [
            "100%|██████████| 1119/1119 [04:31<00:00,  4.13it/s]\n"
          ]
        },
        {
          "output_type": "stream",
          "name": "stdout",
          "text": [
            "training_accuracy=35.66%,train_loss=1.84, validation_accuracy=34.32%, validation_loss=1.85\n",
            "Epoch #6:\n"
          ]
        },
        {
          "output_type": "stream",
          "name": "stderr",
          "text": [
            "100%|██████████| 1119/1119 [04:31<00:00,  4.13it/s]\n"
          ]
        },
        {
          "output_type": "stream",
          "name": "stdout",
          "text": [
            "training_accuracy=37.14%,train_loss=1.79, validation_accuracy=35.71%, validation_loss=1.81\n",
            "Epoch #7:\n"
          ]
        },
        {
          "output_type": "stream",
          "name": "stderr",
          "text": [
            "100%|██████████| 1119/1119 [04:31<00:00,  4.13it/s]\n"
          ]
        },
        {
          "output_type": "stream",
          "name": "stdout",
          "text": [
            "training_accuracy=38.61%,train_loss=1.75, validation_accuracy=37.36%, validation_loss=1.77\n",
            "Epoch #8:\n"
          ]
        },
        {
          "output_type": "stream",
          "name": "stderr",
          "text": [
            "100%|██████████| 1119/1119 [04:31<00:00,  4.12it/s]\n"
          ]
        },
        {
          "output_type": "stream",
          "name": "stdout",
          "text": [
            "training_accuracy=39.98%,train_loss=1.71, validation_accuracy=38.39%, validation_loss=1.74\n",
            "Epoch #9:\n"
          ]
        },
        {
          "output_type": "stream",
          "name": "stderr",
          "text": [
            "100%|██████████| 1119/1119 [04:31<00:00,  4.12it/s]\n"
          ]
        },
        {
          "output_type": "stream",
          "name": "stdout",
          "text": [
            "training_accuracy=41.29%,train_loss=1.68, validation_accuracy=39.92%, validation_loss=1.71\n",
            "Epoch #10:\n"
          ]
        },
        {
          "output_type": "stream",
          "name": "stderr",
          "text": [
            "100%|██████████| 1119/1119 [04:31<00:00,  4.13it/s]\n"
          ]
        },
        {
          "output_type": "stream",
          "name": "stdout",
          "text": [
            "training_accuracy=42.63%,train_loss=1.64, validation_accuracy=41.15%, validation_loss=1.68\n",
            "Epoch #11:\n"
          ]
        },
        {
          "output_type": "stream",
          "name": "stderr",
          "text": [
            "100%|██████████| 1119/1119 [04:30<00:00,  4.13it/s]\n"
          ]
        },
        {
          "output_type": "stream",
          "name": "stdout",
          "text": [
            "training_accuracy=43.49%,train_loss=1.62, validation_accuracy=42.17%, validation_loss=1.66\n",
            "Epoch #12:\n"
          ]
        },
        {
          "output_type": "stream",
          "name": "stderr",
          "text": [
            "100%|██████████| 1119/1119 [04:31<00:00,  4.13it/s]\n"
          ]
        },
        {
          "output_type": "stream",
          "name": "stdout",
          "text": [
            "training_accuracy=45.05%,train_loss=1.58, validation_accuracy=42.71%, validation_loss=1.63\n",
            "Epoch #13:\n"
          ]
        },
        {
          "output_type": "stream",
          "name": "stderr",
          "text": [
            "100%|██████████| 1119/1119 [04:31<00:00,  4.13it/s]\n"
          ]
        },
        {
          "output_type": "stream",
          "name": "stdout",
          "text": [
            "training_accuracy=46.15%,train_loss=1.55, validation_accuracy=43.65%, validation_loss=1.6\n",
            "Epoch #14:\n"
          ]
        },
        {
          "output_type": "stream",
          "name": "stderr",
          "text": [
            "100%|██████████| 1119/1119 [04:30<00:00,  4.13it/s]\n"
          ]
        },
        {
          "output_type": "stream",
          "name": "stdout",
          "text": [
            "training_accuracy=47.39%,train_loss=1.52, validation_accuracy=44.46%, validation_loss=1.58\n",
            "Epoch #15:\n"
          ]
        },
        {
          "output_type": "stream",
          "name": "stderr",
          "text": [
            "100%|██████████| 1119/1119 [04:30<00:00,  4.13it/s]\n"
          ]
        },
        {
          "output_type": "stream",
          "name": "stdout",
          "text": [
            "training_accuracy=48.36%,train_loss=1.5, validation_accuracy=45.67%, validation_loss=1.56\n",
            "Epoch #16:\n"
          ]
        },
        {
          "output_type": "stream",
          "name": "stderr",
          "text": [
            "100%|██████████| 1119/1119 [04:30<00:00,  4.13it/s]\n"
          ]
        },
        {
          "output_type": "stream",
          "name": "stdout",
          "text": [
            "training_accuracy=49.49%,train_loss=1.46, validation_accuracy=46.31%, validation_loss=1.53\n",
            "Epoch #17:\n"
          ]
        },
        {
          "output_type": "stream",
          "name": "stderr",
          "text": [
            "100%|██████████| 1119/1119 [04:30<00:00,  4.13it/s]\n"
          ]
        },
        {
          "output_type": "stream",
          "name": "stdout",
          "text": [
            "training_accuracy=50.75%,train_loss=1.43, validation_accuracy=47.27%, validation_loss=1.51\n",
            "Epoch #18:\n"
          ]
        },
        {
          "output_type": "stream",
          "name": "stderr",
          "text": [
            "100%|██████████| 1119/1119 [04:30<00:00,  4.13it/s]\n"
          ]
        },
        {
          "output_type": "stream",
          "name": "stdout",
          "text": [
            "training_accuracy=51.8%,train_loss=1.4, validation_accuracy=47.98%, validation_loss=1.49\n",
            "Epoch #19:\n"
          ]
        },
        {
          "output_type": "stream",
          "name": "stderr",
          "text": [
            "100%|██████████| 1119/1119 [04:31<00:00,  4.13it/s]\n"
          ]
        },
        {
          "output_type": "stream",
          "name": "stdout",
          "text": [
            "training_accuracy=52.71%,train_loss=1.38, validation_accuracy=48.82%, validation_loss=1.47\n"
          ]
        }
      ]
    },
    {
      "cell_type": "code",
      "source": [
        "accuracy, loss, cm = end_to_end_fine_tune_sgd.evaluate(test_data, BATCH_SIZE, \"test\")\n",
        "f1 = f1_from_cm(cm)\n",
        "print(\"Part B Test Results (SGD):\")\n",
        "print(f\"Accuracy: {100 * accuracy:.2f}%\")\n",
        "print(f\"Loss: {loss:.2f}\")\n",
        "print(f\"F1: {f1:.2f}\")"
      ],
      "metadata": {
        "colab": {
          "base_uri": "https://localhost:8080/"
        },
        "id": "nuAJFewAbuEx",
        "outputId": "ec38266f-1467-4122-dbc5-3ea028cd3517"
      },
      "execution_count": null,
      "outputs": [
        {
          "output_type": "stream",
          "name": "stdout",
          "text": [
            "Part B Test Results (SGD):\n",
            "Accuracy: 48.97%\n",
            "Loss: 1.48\n",
            "F1: 0.49\n"
          ]
        }
      ]
    },
    {
      "cell_type": "code",
      "source": [
        "fig = plot_conf_mat(cm)\n",
        "plt.show()"
      ],
      "metadata": {
        "colab": {
          "base_uri": "https://localhost:8080/",
          "height": 513
        },
        "id": "gIKrIv9wb7q-",
        "outputId": "0ca1e5e8-5ac0-4e39-d1ba-e74ddde67b29"
      },
      "execution_count": null,
      "outputs": [
        {
          "output_type": "display_data",
          "data": {
            "text/plain": [
              "<Figure size 720x576 with 2 Axes>"
            ],
            "image/png": "[encoded data removed]"
          },
          "metadata": {
            "needs_background": "light"
          }
        }
      ]
    },
    {
      "cell_type": "markdown",
      "source": [
        "# Part C: PrePlexity)"
      ],
      "metadata": {
        "id": "JeBxZu0jTs5y"
      }
    },
    {
      "cell_type": "markdown",
      "source": [
        "By definition, preplexity is exp(loss). We can see that the preplexity after fine-tuning has decreased which means the output data is more probable. Linear-tuning reduces the preplexity a little, but not as much as fine-tuning"
      ],
      "metadata": {
        "id": "e3kQOpWba5ey"
      }
    },
    {
      "cell_type": "code",
      "source": [
        "from torch.utils.data import Subset\n",
        "indices = np.arange(len(data))\n",
        "np.random.shuffle(indices)\n",
        "indices = indices[:1000]\n",
        "tmp_data = Subset(data, indices)"
      ],
      "metadata": {
        "id": "u4GURv42Xoc6"
      },
      "execution_count": null,
      "outputs": []
    },
    {
      "cell_type": "code",
      "source": [
        "accuracy, loss, cm = end_to_end_fine_tune_adam.evaluate(tmp_data, BATCH_SIZE, \"test\")"
      ],
      "metadata": {
        "id": "oxRwvnqZ-Z-y"
      },
      "execution_count": null,
      "outputs": []
    },
    {
      "cell_type": "code",
      "source": [
        "print(f\"Preplexity after fine-tuninig is: {np.exp(loss)}\")"
      ],
      "metadata": {
        "colab": {
          "base_uri": "https://localhost:8080/"
        },
        "id": "9N5ZDouGXXjT",
        "outputId": "9446419e-5de1-48b6-9e64-47e0c6990678"
      },
      "execution_count": null,
      "outputs": [
        {
          "output_type": "stream",
          "name": "stdout",
          "text": [
            "Preplexity after fine-tuninig is: 1.6693293611580147\n"
          ]
        }
      ]
    },
    {
      "cell_type": "code",
      "source": [
        "language_model_not_trained = BertModel.from_pretrained(\"HooshvareLab/bert-fa-base-uncased\")\n",
        "linear_model_not_trained = nn.Sequential(*[\n",
        "    nn.Flatten(),\n",
        "    nn.Dropout(),\n",
        "    nn.Linear(linear_in_size, len(POETS))\n",
        "    ])\n",
        "end_to_end_not_trained = MyModel(language_model_not_trained,\n",
        "                                    linear_model_not_trained,\n",
        "                                    \"fine-tune\",\n",
        "                                    optimizer=\"ADAM\",\n",
        "                                    lr=1e-5).to(device)\n",
        "accuracy, loss, cm = end_to_end_not_trained.evaluate(tmp_data, BATCH_SIZE, \"test\")\n",
        "print(f\"Preplexity before fine-tuninig is: {np.exp(loss)}\")"
      ],
      "metadata": {
        "colab": {
          "base_uri": "https://localhost:8080/"
        },
        "id": "hobO_PV3XaNi",
        "outputId": "2f787ab8-efed-442e-aac6-2defc9603e27"
      },
      "execution_count": null,
      "outputs": [
        {
          "output_type": "stream",
          "name": "stderr",
          "text": [
            "Some weights of the model checkpoint at HooshvareLab/bert-fa-base-uncased were not used when initializing BertModel: ['cls.seq_relationship.weight', 'cls.predictions.transform.dense.weight', 'cls.predictions.transform.LayerNorm.bias', 'cls.predictions.decoder.bias', 'cls.seq_relationship.bias', 'cls.predictions.transform.LayerNorm.weight', 'cls.predictions.bias', 'cls.predictions.decoder.weight', 'cls.predictions.transform.dense.bias']\n",
            "- This IS expected if you are initializing BertModel from the checkpoint of a model trained on another task or with another architecture (e.g. initializing a BertForSequenceClassification model from a BertForPreTraining model).\n",
            "- This IS NOT expected if you are initializing BertModel from the checkpoint of a model that you expect to be exactly identical (initializing a BertForSequenceClassification model from a BertForSequenceClassification model).\n"
          ]
        },
        {
          "output_type": "stream",
          "name": "stdout",
          "text": [
            "Preplexity before fine-tuninig is: 11.191073496322915\n"
          ]
        }
      ]
    },
    {
      "cell_type": "code",
      "source": [
        "accuracy, loss, cm = end_to_end_linear_tune_adam.evaluate(tmp_data, BATCH_SIZE, \"test\")\n",
        "print(f\"Preplexity after linear-tuninig is: {np.exp(loss)}\")"
      ],
      "metadata": {
        "id": "yJQbVWpzaO0i",
        "colab": {
          "base_uri": "https://localhost:8080/"
        },
        "outputId": "a136df98-7bb0-491a-a8b9-858b61101a88"
      },
      "execution_count": 1,
      "outputs": [
        {
          "output_type": "stream",
          "name": "stdout",
          "text": [
            "Preplexity after linear-tuninig is: 4.833030936714452\n"
          ]
        }
      ]
    }
  ]
}